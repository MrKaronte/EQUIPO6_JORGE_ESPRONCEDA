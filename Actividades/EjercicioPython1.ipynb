{
  "nbformat": 4,
  "nbformat_minor": 0,
  "metadata": {
    "colab": {
      "provenance": []
    },
    "kernelspec": {
      "name": "python3",
      "display_name": "Python 3"
    },
    "language_info": {
      "name": "python"
    }
  },
  "cells": [
    {
      "cell_type": "markdown",
      "source": [
        "# **Actividad 2: Diseño de Algoritmos en Python**\n",
        "# Jorge Axel Espronceda Rodríguez\n",
        "# 1965626\n",
        "# Hora: N1"
      ],
      "metadata": {
        "id": "kWhsEaaAnNja"
      }
    },
    {
      "cell_type": "code",
      "execution_count": 62,
      "metadata": {
        "id": "q2cqGgjoQNiY",
        "colab": {
          "base_uri": "https://localhost:8080/"
        },
        "outputId": "02eaf7ce-284a-47c4-8375-25cdb729d139"
      },
      "outputs": [
        {
          "output_type": "stream",
          "name": "stdout",
          "text": [
            "Agregue su nombre: ana\n",
            "Disculpa, no puedo saludarte\n"
          ]
        }
      ],
      "source": [
        "lista_nombres = ['Ana', 'Pedro', 'Juan', 'ana', 'pedro', 'juan']\n",
        "\n",
        "nombre = input('Agregue su nombre: ')\n",
        "\n",
        "if nombre in lista_nombres:\n",
        "  print('Disculpa, no puedo saludarte')\n",
        "else:\n",
        "  print('Hola '+ nombre + ', cómo estás')\n"
      ]
    },
    {
      "cell_type": "code",
      "source": [
        "n = int(input('Ingrese la cantidad de carácteres que desea en la lista: '))\n",
        "\n",
        "lista = []\n",
        "\n",
        "while n > 0:\n",
        "  a = input('Ingrese un caracter para añadir: ')\n",
        "  lista.append(a)\n",
        "  if len(lista) == n:\n",
        "    break\n",
        "\n",
        "print(\"\")\n",
        "print('Tu lista es: ', lista)\n",
        "print('Tu lista invertida es: ', lista[::-1])"
      ],
      "metadata": {
        "colab": {
          "base_uri": "https://localhost:8080/"
        },
        "id": "PKTiyea4Uh4S",
        "outputId": "54e1932d-7eff-431a-c923-2d6e41b8701c"
      },
      "execution_count": 64,
      "outputs": [
        {
          "output_type": "stream",
          "name": "stdout",
          "text": [
            "Ingrese la cantidad de carácteres que desea en la lista: 5\n",
            "Ingrese un caracter para añadir: 1\n",
            "Ingrese un caracter para añadir: 2\n",
            "Ingrese un caracter para añadir: 3\n",
            "Ingrese un caracter para añadir: 4\n",
            "Ingrese un caracter para añadir: 5\n",
            "\n",
            "Tu lista es:  ['1', '2', '3', '4', '5']\n",
            "Tu lista invertida es:  ['5', '4', '3', '2', '1']\n"
          ]
        }
      ]
    },
    {
      "cell_type": "code",
      "source": [
        "f = int(input('Ingrese la cantidad de números de la serie de Fibonacci que quiera generar: '))\n",
        "\n",
        "a = 0\n",
        "\n",
        "b = 1\n",
        "\n",
        "s = 0\n",
        "\n",
        "for x in range(f):\n",
        "  print(s,end=' ')\n",
        "\n",
        "  s = a + b\n",
        "  b = a\n",
        "  a = s\n"
      ],
      "metadata": {
        "colab": {
          "base_uri": "https://localhost:8080/"
        },
        "id": "TN1ch9H7Fh7Q",
        "outputId": "da54a206-f7b4-4403-baab-714742edaa0d"
      },
      "execution_count": 65,
      "outputs": [
        {
          "output_type": "stream",
          "name": "stdout",
          "text": [
            "Ingrese la cantidad de números de la serie de Fibonacci que quiera generar: 10\n",
            "0 1 1 2 3 5 8 13 21 34 "
          ]
        }
      ]
    },
    {
      "cell_type": "code",
      "source": [
        "import random\n",
        "\n",
        "num = random.randint(0, 101)\n",
        "\n",
        "while True:\n",
        "  guess = int(input('Intenta adivinar un número entre 1 y 100: '))\n",
        "  if guess == num:\n",
        "    print('Felicidades has adivinado el numero!')\n",
        "    break\n",
        "  elif guess < num:\n",
        "    print('El número es mayor')\n",
        "  else:\n",
        "    print('El número es menor')"
      ],
      "metadata": {
        "colab": {
          "base_uri": "https://localhost:8080/"
        },
        "id": "FE1JpDKFhhlC",
        "outputId": "1cc11a5c-5cee-4c33-f226-af7772692272"
      },
      "execution_count": 66,
      "outputs": [
        {
          "output_type": "stream",
          "name": "stdout",
          "text": [
            "Intenta adivinar un número entre 1 y 100: 50\n",
            "El número es mayor\n",
            "Intenta adivinar un número entre 1 y 100: 70\n",
            "El número es menor\n",
            "Intenta adivinar un número entre 1 y 100: 75\n",
            "El número es menor\n",
            "Intenta adivinar un número entre 1 y 100: 73\n",
            "El número es menor\n",
            "Intenta adivinar un número entre 1 y 100: 71\n",
            "El número es menor\n",
            "Intenta adivinar un número entre 1 y 100: 69\n",
            "El número es menor\n",
            "Intenta adivinar un número entre 1 y 100: 65\n",
            "El número es menor\n",
            "Intenta adivinar un número entre 1 y 100: 60\n",
            "Felicidades has adivinado el numero!\n"
          ]
        }
      ]
    },
    {
      "cell_type": "code",
      "source": [
        "def es_primo(numero):\n",
        "    if numero <= 1:\n",
        "        return False\n",
        "    elif numero <= 3:\n",
        "        return True\n",
        "    elif numero % 2 == 0 or numero % 3 == 0:\n",
        "        return False\n",
        "    i = 5\n",
        "    while i * i <= numero:\n",
        "        if numero % i == 0 or numero % (i + 2) == 0:\n",
        "            return False\n",
        "        i += 6\n",
        "    return True\n",
        "\n",
        "inicio = int(input(\"Ingrese el inicio del rango: \"))\n",
        "fin = int(input(\"Ingrese el final del rango: \"))\n",
        "\n",
        "print(\"Números primos en el rango\", inicio, \"a\", fin, \":\")\n",
        "\n",
        "for numero in range(inicio, fin + 1):\n",
        "    if es_primo(numero):\n",
        "        print(numero)"
      ],
      "metadata": {
        "colab": {
          "base_uri": "https://localhost:8080/"
        },
        "id": "T1q3YjYeY_iv",
        "outputId": "8abe7507-81a6-4805-e5f0-d9faedbc5e8a"
      },
      "execution_count": 68,
      "outputs": [
        {
          "output_type": "stream",
          "name": "stdout",
          "text": [
            "Ingrese el inicio del rango: 2\n",
            "Ingrese el final del rango: 10\n",
            "Números primos en el rango 2 a 10 :\n",
            "2\n",
            "3\n",
            "5\n",
            "7\n"
          ]
        }
      ]
    },
    {
      "cell_type": "code",
      "source": [
        "def suma(a, b):\n",
        "    return a + b\n",
        "\n",
        "def resta(a, b):\n",
        "    return a - b\n",
        "\n",
        "def multiplicacion(a, b):\n",
        "    return a * b\n",
        "\n",
        "def division(a, b):\n",
        "    if b != 0:\n",
        "        return a / b\n",
        "    else:\n",
        "        return \"Error: No se puede dividir entre cero.\"\n",
        "\n",
        "num1 = float(input(\"Ingrese el primer número: \"))\n",
        "num2 = float(input(\"Ingrese el segundo número: \"))\n",
        "\n",
        "operaciones = {\n",
        "    'Suma': suma(num1, num2),\n",
        "    'Resta': resta(num1, num2),\n",
        "    'Multiplicación': multiplicacion(num1, num2),\n",
        "    'División': division(num1, num2)\n",
        "}\n",
        "\n",
        "for operacion, resultado in operaciones.items():\n",
        "    print(f\"{operacion}: {resultado}\")"
      ],
      "metadata": {
        "colab": {
          "base_uri": "https://localhost:8080/"
        },
        "id": "zXBiOcWDi7RC",
        "outputId": "c3937882-f321-43a0-fc5c-54ef796a8111"
      },
      "execution_count": 70,
      "outputs": [
        {
          "output_type": "stream",
          "name": "stdout",
          "text": [
            "Ingrese el primer número: 15\n",
            "Ingrese el segundo número: 5\n",
            "Suma: 20.0\n",
            "Resta: 10.0\n",
            "Multiplicación: 75.0\n",
            "División: 3.0\n"
          ]
        }
      ]
    }
  ]
}